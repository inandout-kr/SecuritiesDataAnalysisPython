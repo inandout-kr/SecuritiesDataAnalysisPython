{
 "cells": [
  {
   "cell_type": "code",
   "execution_count": 1,
   "id": "815e4198-e864-49c4-a6f0-b18db839f5bf",
   "metadata": {},
   "outputs": [
    {
     "name": "stdout",
     "output_type": "stream",
     "text": [
      "Requirement already satisfied: pymysql in c:\\anaconda\\lib\\site-packages (1.0.2)\n"
     ]
    }
   ],
   "source": [
    "!pip install pymysql\n",
    "import numpy as np\n",
    "import pandas as pd\n",
    "import matplotlib.pylab as plt\n",
    "from AnalyzerFolder import Analyzer"
   ]
  },
  {
   "cell_type": "code",
   "execution_count": 20,
   "id": "83afc480-02e9-41eb-bec4-0434696e7b5a",
   "metadata": {},
   "outputs": [
    {
     "data": {
      "text/html": [
       "<div>\n",
       "<style scoped>\n",
       "    .dataframe tbody tr th:only-of-type {\n",
       "        vertical-align: middle;\n",
       "    }\n",
       "\n",
       "    .dataframe tbody tr th {\n",
       "        vertical-align: top;\n",
       "    }\n",
       "\n",
       "    .dataframe thead th {\n",
       "        text-align: right;\n",
       "    }\n",
       "</style>\n",
       "<table border=\"1\" class=\"dataframe\">\n",
       "  <thead>\n",
       "    <tr style=\"text-align: right;\">\n",
       "      <th></th>\n",
       "      <th>동양에스텍</th>\n",
       "      <th>삼성전기</th>\n",
       "      <th>NAVER</th>\n",
       "      <th>카카오</th>\n",
       "    </tr>\n",
       "    <tr>\n",
       "      <th>date</th>\n",
       "      <th></th>\n",
       "      <th></th>\n",
       "      <th></th>\n",
       "      <th></th>\n",
       "    </tr>\n",
       "  </thead>\n",
       "  <tbody>\n",
       "    <tr>\n",
       "      <th>2017-07-18</th>\n",
       "      <td>3400</td>\n",
       "      <td>105500</td>\n",
       "      <td>830000</td>\n",
       "      <td>103500</td>\n",
       "    </tr>\n",
       "    <tr>\n",
       "      <th>2017-07-19</th>\n",
       "      <td>3400</td>\n",
       "      <td>102000</td>\n",
       "      <td>835000</td>\n",
       "      <td>105000</td>\n",
       "    </tr>\n",
       "    <tr>\n",
       "      <th>2017-07-20</th>\n",
       "      <td>3420</td>\n",
       "      <td>102000</td>\n",
       "      <td>835000</td>\n",
       "      <td>105000</td>\n",
       "    </tr>\n",
       "    <tr>\n",
       "      <th>2017-07-21</th>\n",
       "      <td>3425</td>\n",
       "      <td>106000</td>\n",
       "      <td>839000</td>\n",
       "      <td>108000</td>\n",
       "    </tr>\n",
       "    <tr>\n",
       "      <th>2017-07-24</th>\n",
       "      <td>3445</td>\n",
       "      <td>106500</td>\n",
       "      <td>833000</td>\n",
       "      <td>109000</td>\n",
       "    </tr>\n",
       "    <tr>\n",
       "      <th>...</th>\n",
       "      <td>...</td>\n",
       "      <td>...</td>\n",
       "      <td>...</td>\n",
       "      <td>...</td>\n",
       "    </tr>\n",
       "    <tr>\n",
       "      <th>2021-07-29</th>\n",
       "      <td>2175</td>\n",
       "      <td>2175</td>\n",
       "      <td>2175</td>\n",
       "      <td>2175</td>\n",
       "    </tr>\n",
       "    <tr>\n",
       "      <th>2021-07-30</th>\n",
       "      <td>2160</td>\n",
       "      <td>2160</td>\n",
       "      <td>2160</td>\n",
       "      <td>2160</td>\n",
       "    </tr>\n",
       "    <tr>\n",
       "      <th>2021-08-02</th>\n",
       "      <td>2155</td>\n",
       "      <td>2155</td>\n",
       "      <td>2155</td>\n",
       "      <td>2155</td>\n",
       "    </tr>\n",
       "    <tr>\n",
       "      <th>2021-08-03</th>\n",
       "      <td>2135</td>\n",
       "      <td>2135</td>\n",
       "      <td>2135</td>\n",
       "      <td>2135</td>\n",
       "    </tr>\n",
       "    <tr>\n",
       "      <th>2021-08-04</th>\n",
       "      <td>2110</td>\n",
       "      <td>2110</td>\n",
       "      <td>2110</td>\n",
       "      <td>2110</td>\n",
       "    </tr>\n",
       "  </tbody>\n",
       "</table>\n",
       "<p>996 rows × 4 columns</p>\n",
       "</div>"
      ],
      "text/plain": [
       "            동양에스텍    삼성전기   NAVER     카카오\n",
       "date                                     \n",
       "2017-07-18   3400  105500  830000  103500\n",
       "2017-07-19   3400  102000  835000  105000\n",
       "2017-07-20   3420  102000  835000  105000\n",
       "2017-07-21   3425  106000  839000  108000\n",
       "2017-07-24   3445  106500  833000  109000\n",
       "...           ...     ...     ...     ...\n",
       "2021-07-29   2175    2175    2175    2175\n",
       "2021-07-30   2160    2160    2160    2160\n",
       "2021-08-02   2155    2155    2155    2155\n",
       "2021-08-03   2135    2135    2135    2135\n",
       "2021-08-04   2110    2110    2110    2110\n",
       "\n",
       "[996 rows x 4 columns]"
      ]
     },
     "execution_count": 20,
     "metadata": {},
     "output_type": "execute_result"
    }
   ],
   "source": [
    "mk = Analyzer.MarketDB()\n",
    "stock = ['동양에스텍', '삼성전기', 'NAVER', '카카오']\n",
    "df = pd.DataFrame()\n",
    "for i in stock:\n",
    "    df[i] = mk.get_daily_price(i, '2017-07-18', '2021-08-04')['close']\n",
    "\n",
    "df"
   ]
  },
  {
   "cell_type": "code",
   "execution_count": 21,
   "id": "87c8d7e4-9da8-4a9e-8292-ff0544b64633",
   "metadata": {},
   "outputs": [
    {
     "data": {
      "text/html": [
       "<div>\n",
       "<style scoped>\n",
       "    .dataframe tbody tr th:only-of-type {\n",
       "        vertical-align: middle;\n",
       "    }\n",
       "\n",
       "    .dataframe tbody tr th {\n",
       "        vertical-align: top;\n",
       "    }\n",
       "\n",
       "    .dataframe thead th {\n",
       "        text-align: right;\n",
       "    }\n",
       "</style>\n",
       "<table border=\"1\" class=\"dataframe\">\n",
       "  <thead>\n",
       "    <tr style=\"text-align: right;\">\n",
       "      <th></th>\n",
       "      <th>동양에스텍</th>\n",
       "      <th>삼성전기</th>\n",
       "      <th>NAVER</th>\n",
       "      <th>카카오</th>\n",
       "    </tr>\n",
       "  </thead>\n",
       "  <tbody>\n",
       "    <tr>\n",
       "      <th>동양에스텍</th>\n",
       "      <td>0.398089</td>\n",
       "      <td>0.156182</td>\n",
       "      <td>0.132635</td>\n",
       "      <td>0.141465</td>\n",
       "    </tr>\n",
       "    <tr>\n",
       "      <th>삼성전기</th>\n",
       "      <td>0.156182</td>\n",
       "      <td>0.410696</td>\n",
       "      <td>0.272009</td>\n",
       "      <td>0.290303</td>\n",
       "    </tr>\n",
       "    <tr>\n",
       "      <th>NAVER</th>\n",
       "      <td>0.132635</td>\n",
       "      <td>0.272009</td>\n",
       "      <td>0.528369</td>\n",
       "      <td>0.307075</td>\n",
       "    </tr>\n",
       "    <tr>\n",
       "      <th>카카오</th>\n",
       "      <td>0.141465</td>\n",
       "      <td>0.290303</td>\n",
       "      <td>0.307075</td>\n",
       "      <td>0.537263</td>\n",
       "    </tr>\n",
       "  </tbody>\n",
       "</table>\n",
       "</div>"
      ],
      "text/plain": [
       "          동양에스텍      삼성전기     NAVER       카카오\n",
       "동양에스텍  0.398089  0.156182  0.132635  0.141465\n",
       "삼성전기   0.156182  0.410696  0.272009  0.290303\n",
       "NAVER  0.132635  0.272009  0.528369  0.307075\n",
       "카카오    0.141465  0.290303  0.307075  0.537263"
      ]
     },
     "execution_count": 21,
     "metadata": {},
     "output_type": "execute_result"
    }
   ],
   "source": [
    "daily_ret = df.pct_change()\n",
    "annual_ret = daily_ret.mean()\n",
    "daily_cov = daily_ret.cov()\n",
    "annual_cov = daily_cov * 252\n",
    "\n",
    "annual_cov"
   ]
  },
  {
   "cell_type": "code",
   "execution_count": 22,
   "id": "8b50adbd-46fc-45ea-b841-00b0a59ffd17",
   "metadata": {},
   "outputs": [],
   "source": [
    "port_ret = []      # 종목 비중 다르게 해 Portfolio 20,000개 생성하기 위한 단계\n",
    "port_risk = []     # 포트 수익률, 리스크, 비중 저장할 리스트 생성\n",
    "port_weights = []  #"
   ]
  },
  {
   "cell_type": "code",
   "execution_count": 23,
   "id": "890fdc17-2e0f-488b-be7c-e2ef6e74a303",
   "metadata": {},
   "outputs": [],
   "source": [
    "for _ in range(20000): # 몬테카를로 시뮬레이션 이용해 Portfolio 20,000개 생성\n",
    "    weights = np.random.random(len(stock))  # stock 개수의 랜덤 숫자로 구성된 배열 생성\n",
    "    weights /= np.sum(weights)  # 비중의 합이 1이 되도록 조정\n",
    "\n",
    "    returns = np.dot(weights, annual_ret)  # np.dot 사용해 [(종목별 비중 배열) * (종목별 연간 수익률) = Portfolio 전체 returns] 구하기\n",
    "    risk = np.sqrt(np.dot(weights.T, np.dot(annual_cov, weights)))  # sqrt((공분산*비중) * 비중의 전치행렬) = Portfolio 전체 Risk 구하기\n",
    "\n",
    "    port_ret.append(returns) \n",
    "    port_risk.append(risk) \n",
    "    port_weights.append(weights) \n",
    "    \n",
    "portfolio = {'Returns': port_ret, 'Risk': port_risk}"
   ]
  },
  {
   "cell_type": "code",
   "execution_count": 24,
   "id": "ff1316ac-280d-4239-bae5-bd9638b5073d",
   "metadata": {},
   "outputs": [
    {
     "data": {
      "text/html": [
       "<div>\n",
       "<style scoped>\n",
       "    .dataframe tbody tr th:only-of-type {\n",
       "        vertical-align: middle;\n",
       "    }\n",
       "\n",
       "    .dataframe tbody tr th {\n",
       "        vertical-align: top;\n",
       "    }\n",
       "\n",
       "    .dataframe thead th {\n",
       "        text-align: right;\n",
       "    }\n",
       "</style>\n",
       "<table border=\"1\" class=\"dataframe\">\n",
       "  <thead>\n",
       "    <tr style=\"text-align: right;\">\n",
       "      <th></th>\n",
       "      <th>Returns</th>\n",
       "      <th>Risk</th>\n",
       "      <th>동양에스텍</th>\n",
       "      <th>삼성전기</th>\n",
       "      <th>NAVER</th>\n",
       "      <th>카카오</th>\n",
       "    </tr>\n",
       "  </thead>\n",
       "  <tbody>\n",
       "    <tr>\n",
       "      <th>0</th>\n",
       "      <td>0.000217</td>\n",
       "      <td>0.530587</td>\n",
       "      <td>0.329321</td>\n",
       "      <td>0.303576</td>\n",
       "      <td>0.011296</td>\n",
       "      <td>0.355807</td>\n",
       "    </tr>\n",
       "    <tr>\n",
       "      <th>1</th>\n",
       "      <td>0.000110</td>\n",
       "      <td>0.547667</td>\n",
       "      <td>0.223189</td>\n",
       "      <td>0.184544</td>\n",
       "      <td>0.177445</td>\n",
       "      <td>0.414822</td>\n",
       "    </tr>\n",
       "    <tr>\n",
       "      <th>2</th>\n",
       "      <td>-0.000211</td>\n",
       "      <td>0.601460</td>\n",
       "      <td>0.090870</td>\n",
       "      <td>0.082255</td>\n",
       "      <td>0.555279</td>\n",
       "      <td>0.271597</td>\n",
       "    </tr>\n",
       "    <tr>\n",
       "      <th>3</th>\n",
       "      <td>-0.000165</td>\n",
       "      <td>0.569191</td>\n",
       "      <td>0.121507</td>\n",
       "      <td>0.214508</td>\n",
       "      <td>0.441992</td>\n",
       "      <td>0.221993</td>\n",
       "    </tr>\n",
       "    <tr>\n",
       "      <th>4</th>\n",
       "      <td>0.000223</td>\n",
       "      <td>0.551066</td>\n",
       "      <td>0.271294</td>\n",
       "      <td>0.183061</td>\n",
       "      <td>0.062901</td>\n",
       "      <td>0.482743</td>\n",
       "    </tr>\n",
       "    <tr>\n",
       "      <th>...</th>\n",
       "      <td>...</td>\n",
       "      <td>...</td>\n",
       "      <td>...</td>\n",
       "      <td>...</td>\n",
       "      <td>...</td>\n",
       "      <td>...</td>\n",
       "    </tr>\n",
       "    <tr>\n",
       "      <th>19995</th>\n",
       "      <td>0.000134</td>\n",
       "      <td>0.510117</td>\n",
       "      <td>0.452791</td>\n",
       "      <td>0.180131</td>\n",
       "      <td>0.165338</td>\n",
       "      <td>0.201739</td>\n",
       "    </tr>\n",
       "    <tr>\n",
       "      <th>19996</th>\n",
       "      <td>0.000150</td>\n",
       "      <td>0.522372</td>\n",
       "      <td>0.357642</td>\n",
       "      <td>0.154952</td>\n",
       "      <td>0.157416</td>\n",
       "      <td>0.329990</td>\n",
       "    </tr>\n",
       "    <tr>\n",
       "      <th>19997</th>\n",
       "      <td>0.000064</td>\n",
       "      <td>0.545268</td>\n",
       "      <td>0.188599</td>\n",
       "      <td>0.290512</td>\n",
       "      <td>0.169542</td>\n",
       "      <td>0.351347</td>\n",
       "    </tr>\n",
       "    <tr>\n",
       "      <th>19998</th>\n",
       "      <td>-0.000010</td>\n",
       "      <td>0.513374</td>\n",
       "      <td>0.408100</td>\n",
       "      <td>0.360898</td>\n",
       "      <td>0.220615</td>\n",
       "      <td>0.010387</td>\n",
       "    </tr>\n",
       "    <tr>\n",
       "      <th>19999</th>\n",
       "      <td>0.000302</td>\n",
       "      <td>0.538409</td>\n",
       "      <td>0.474193</td>\n",
       "      <td>0.007655</td>\n",
       "      <td>0.079811</td>\n",
       "      <td>0.438342</td>\n",
       "    </tr>\n",
       "  </tbody>\n",
       "</table>\n",
       "<p>20000 rows × 6 columns</p>\n",
       "</div>"
      ],
      "text/plain": [
       "        Returns      Risk     동양에스텍      삼성전기     NAVER       카카오\n",
       "0      0.000217  0.530587  0.329321  0.303576  0.011296  0.355807\n",
       "1      0.000110  0.547667  0.223189  0.184544  0.177445  0.414822\n",
       "2     -0.000211  0.601460  0.090870  0.082255  0.555279  0.271597\n",
       "3     -0.000165  0.569191  0.121507  0.214508  0.441992  0.221993\n",
       "4      0.000223  0.551066  0.271294  0.183061  0.062901  0.482743\n",
       "...         ...       ...       ...       ...       ...       ...\n",
       "19995  0.000134  0.510117  0.452791  0.180131  0.165338  0.201739\n",
       "19996  0.000150  0.522372  0.357642  0.154952  0.157416  0.329990\n",
       "19997  0.000064  0.545268  0.188599  0.290512  0.169542  0.351347\n",
       "19998 -0.000010  0.513374  0.408100  0.360898  0.220615  0.010387\n",
       "19999  0.000302  0.538409  0.474193  0.007655  0.079811  0.438342\n",
       "\n",
       "[20000 rows x 6 columns]"
      ]
     },
     "execution_count": 24,
     "metadata": {},
     "output_type": "execute_result"
    }
   ],
   "source": [
    "for i, s in enumerate(stock):  # i 값은 0, 1, 2, 3 순으로, s값은 '삼성전자', 'SK하이닉스', 'NAVER', '카카오' 순으로\n",
    "    portfolio[s] = [weight[i] for weight in port_weights] \n",
    "df = pd.DataFrame(portfolio) \n",
    "df = df[['Returns', 'Risk'] + [s for s in stock]]\n",
    "df"
   ]
  },
  {
   "cell_type": "code",
   "execution_count": 25,
   "id": "48b8f779-78ab-4a4d-9110-bd1a79ad842a",
   "metadata": {},
   "outputs": [
    {
     "data": {
      "image/png": "[encoded data removed]",
      "text/plain": [
       "<Figure size 720x504 with 1 Axes>"
      ]
     },
     "metadata": {
      "needs_background": "light"
     },
     "output_type": "display_data"
    }
   ],
   "source": [
    "df.plot.scatter(x='Risk', y='Returns', figsize=(10,7), grid=True)\n",
    "plt.title('Efficient Frontier')\n",
    "plt.xlabel('Risk')\n",
    "plt.ylabel('Expected Returns')\n",
    "plt.show()"
   ]
  },
  {
   "cell_type": "code",
   "execution_count": 26,
   "id": "cf3f7f10-00f0-49db-8762-ce52f95377d2",
   "metadata": {},
   "outputs": [
    {
     "data": {
      "text/plain": [
       "0.5081219648305655"
      ]
     },
     "execution_count": 26,
     "metadata": {},
     "output_type": "execute_result"
    }
   ],
   "source": [
    "df['Risk'].min()"
   ]
  },
  {
   "cell_type": "code",
   "execution_count": 27,
   "id": "194f5d6f-9c96-452c-992c-b761778b5043",
   "metadata": {},
   "outputs": [
    {
     "data": {
      "text/plain": [
       "0.7061148760274328"
      ]
     },
     "execution_count": 27,
     "metadata": {},
     "output_type": "execute_result"
    }
   ],
   "source": [
    "df['Risk'].max()"
   ]
  },
  {
   "cell_type": "code",
   "execution_count": 28,
   "id": "dea8e2c7-c950-47a9-be59-190189277d20",
   "metadata": {},
   "outputs": [
    {
     "data": {
      "text/plain": [
       "0.00037809383480337316"
      ]
     },
     "execution_count": 28,
     "metadata": {},
     "output_type": "execute_result"
    }
   ],
   "source": [
    "df['Returns'].max()"
   ]
  },
  {
   "cell_type": "code",
   "execution_count": null,
   "id": "d973e04e-d4f2-463d-92a2-85aab4fce139",
   "metadata": {},
   "outputs": [],
   "source": []
  }
 ],
 "metadata": {
  "kernelspec": {
   "display_name": "Python 3",
   "language": "python",
   "name": "python3"
  },
  "language_info": {
   "codemirror_mode": {
    "name": "ipython",
    "version": 3
   },
   "file_extension": ".py",
   "mimetype": "text/x-python",
   "name": "python",
   "nbconvert_exporter": "python",
   "pygments_lexer": "ipython3",
   "version": "3.8.8"
  }
 },
 "nbformat": 4,
 "nbformat_minor": 5
}
